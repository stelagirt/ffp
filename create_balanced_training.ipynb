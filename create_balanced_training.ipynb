{
 "cells": [
  {
   "cell_type": "code",
   "execution_count": 1,
   "metadata": {
    "collapsed": true
   },
   "outputs": [],
   "source": [
    "import pandas as pd\n",
    "from pandas import DataFrame\n",
    "from os import listdir, chdir\n",
    "from os.path import isfile, join\n",
    "import math"
   ]
  },
  {
   "cell_type": "code",
   "execution_count": null,
   "metadata": {
    "collapsed": true
   },
   "outputs": [],
   "source": [
    "def normalized_values(y,dfmax, dfmin):\n",
    "    a = (y- dfmin) / (dfmax - dfmin)\n",
    "    return(a)\n",
    "\n",
    "def apply_norm(normdf, unnormdf, col, dfmax, dfmin, dfmean, dfstd, norm_type):\n",
    "    normdf[col] = unnormdf.apply(lambda x: normalized_values(x[col], dfmax, dfmin, dfmean, dfstd, norm_type), axis=1)\n",
    "\n",
    "def dataset_sanity_check(df):\n",
    "    for c in [cl for cl in df.columns if 'bin' not in cl]:\n",
    "        print('column %s - max: %s, min : %s, mean: %s, std: %s'%(c, df[c].max(), df[c].min(), df[c].mean(), df[c].std()))\n",
    "\n",
    "def normalize_dataset(df, d):\n",
    "    X = DataFrame()\n",
    "#    if aggrfile and os.path.exists(aggrfile):\n",
    "#        with open(aggrfile) as aggrf:\n",
    "#            aggrs = json.loads(aggrf.read())\n",
    "    for c in df.columns:\n",
    "        if c in d.keys():\n",
    "            print(c)\n",
    "            dfcfloat = df[c].astype('float64')\n",
    "            #print(\"Normalize column:%s\" % c)\n",
    "            dfmax = d[c]['max'] if 'max' in d[c] else None\n",
    "            dfmin = d[c]['min'] if 'min' in d[c] else None\n",
    "            #print(d[c]['min'],'-',d[c]['max'])\n",
    "            #dfmean = d[c]['mean'] if 'mean' in aggrs[c] else None\n",
    "            #dfstd = d[c]['std'] if 'std' in aggrs[c] else None\n",
    "            X[c] = dfcfloat.apply(lambda x: normalized_values(x, dfmax, dfmin))#, axis=1)\n",
    "            #dataset_sanity_check(X[[c]])\n",
    "        else:\n",
    "            X[c] = df[c]\n",
    "    return(X)"
   ]
  },
  {
   "cell_type": "code",
   "execution_count": null,
   "metadata": {
    "collapsed": true
   },
   "outputs": [],
   "source": [
    "d = {'aspect': {'max': 359.99800000000016, 'min': -1.0},\n",
    " 'curvature': {'max': 0.73661599999999994, 'min': -0.76867799999999997},\n",
    " 'dem': {'max': 2806.1399999999999, 'min': -6.04},\n",
    " 'dom_vel': {'max': 19.337629295696285, 'min': 0.49528943306704032},\n",
    " 'evi': {'max': 0.99250000000000005, 'min': -0.19869999999999999},\n",
    " 'lst_day': {'max': 342.77999999999997, 'min': 251.78},\n",
    " 'lst_night': {'max': 322.45999999999998, 'min': 254.47999572753903},\n",
    " 'max_dew_temp': {'max': 300.5537109375, 'min': 266.383056640625},\n",
    " 'max_temp': {'max': 317.44775390625, 'min': 273.447509765625},\n",
    " 'mean_dew_temp': {'max': 298.55347696940106, 'min': 263.98918660481769},\n",
    " 'mean_temp': {'max': 309.74698893229169, 'min': 270.31141153971362},\n",
    " 'min_dew_temp': {'max': 297.611083984375, 'min': 258.5595703125},\n",
    " 'min_temp': {'max': 303.00634765625, 'min': 262.879150390625},\n",
    " 'ndvi_new': {'max': 0.99939999999999996, 'min': -0.20000000000000001},\n",
    " 'rain_7days': {'max': 3.5451469016037436, 'min': 6.8902961061212417e-06},\n",
    " 'res_max': {'max': 19.337629295696285, 'min': 2.7861490154313331},\n",
    " 'slope': {'max': 45.0045, 'min': 0.0},\n",
    "    'x':{'max':28.04987944036008,'min':19.375364776587237},\n",
    "    'y':{'max':41.74353364305825,'min':34.80164167588476},\n",
    "    'frequency':{'max':3,'min':0},\n",
    "    'f81':{'max':0.32845602804450552,'min':0}}"
   ]
  },
  {
   "cell_type": "code",
   "execution_count": 3,
   "metadata": {
    "collapsed": true
   },
   "outputs": [],
   "source": [
    "mypath = '/work2/pa21/sgirtsou/production/datasets/hard_cosine_similarity'"
   ]
  },
  {
   "cell_type": "code",
   "execution_count": 4,
   "metadata": {
    "collapsed": true
   },
   "outputs": [],
   "source": [
    "chdir(mypath)"
   ]
  },
  {
   "cell_type": "code",
   "execution_count": 5,
   "metadata": {
    "collapsed": true
   },
   "outputs": [],
   "source": [
    "#oldset = pd.read_csv('old_training_dataset_dew_lst_dummies.csv')\n",
    "xy = pd.read_csv('/users/pa21/sgirtsou/transfered_files/data/centroids_id_x_y.csv')\n",
    "freq = pd.read_csv('/users/pa21/sgirtsou/ffp/code/ml-fires-1/ML_fires_al/stats/frequencyfeature_density_40km_1970_2009.csv')"
   ]
  },
  {
   "cell_type": "code",
   "execution_count": null,
   "metadata": {
    "collapsed": true
   },
   "outputs": [],
   "source": [
    "oldset['wkd'] = pd.to_datetime(oldset['firedate'],format='%Y-%m-%d').dt.dayofweek\n",
    "oldset['month'] = pd.to_datetime(oldset['firedate'],format='%Y-%m-%d').dt.month\n",
    "oldset = pd.get_dummies(oldset, columns=['wkd', 'month'])"
   ]
  },
  {
   "cell_type": "code",
   "execution_count": null,
   "metadata": {
    "collapsed": true
   },
   "outputs": [],
   "source": [
    "months = ['month_4','month_5','month_6','month_7','month_8','month_9']\n",
    "for m in months:\n",
    "    if m not in oldset.columns:\n",
    "        print(m)\n",
    "        oldset[m] = 0"
   ]
  },
  {
   "cell_type": "code",
   "execution_count": null,
   "metadata": {
    "collapsed": true
   },
   "outputs": [],
   "source": [
    "oldset = oldset.merge(freq,left_on='id',right_on='id')\n",
    "oldset = oldset.rename(columns={'81':'f81'})\n",
    "oldset = oldset.merge(xy,left_on='id',right_on='id')"
   ]
  },
  {
   "cell_type": "code",
   "execution_count": null,
   "metadata": {
    "collapsed": true
   },
   "outputs": [],
   "source": [
    "oldset.columns = [['Unnamed: 0','id', 'firedate', 'max_temp', 'min_temp', 'mean_temp',\n",
    "       'res_max', 'dom_vel', 'rain_7days', 'dem', 'slope', 'curvature',\n",
    "       'aspect', 'ndvi_new', 'evi', 'fire', 'max_dew_temp', 'mean_dew_temp',\n",
    "       'min_dew_temp', 'lst_day_image', 'lst_day', 'lst_night', 'dir_max_1',\n",
    "       'dir_max_2', 'dir_max_3', 'dir_max_4', 'dir_max_5',\n",
    "       'dir_max_6', 'dir_max_7', 'dir_max_8', 'dom_dir_1',\n",
    "       'dom_dir_2', 'dom_dir_3', 'dom_dir_4', 'dom_dir_5',\n",
    "       'dom_dir_6', 'dom_dir_7', 'dom_dir_8', 'corine_111',\n",
    "       'corine_112', 'corine_121', 'corine_122', 'corine_123',\n",
    "       'corine_131', 'corine_132', 'corine_133', 'corine_142',\n",
    "       'corine_211', 'corine_212', 'corine_213', 'corine_221',\n",
    "       'corine_222', 'corine_223', 'corine_231', 'corine_241',\n",
    "       'corine_242', 'corine_243', 'corine_311', 'corine_312',\n",
    "       'corine_313', 'corine_321', 'corine_322', 'corine_323',\n",
    "       'corine_324', 'corine_331', 'corine_332', 'corine_333',\n",
    "       'corine_334', 'corine_411', 'corine_421', 'corine_511',\n",
    "       'corine_512', 'corine_523', 'wkd_0', 'wkd_1', 'wkd_2', 'wkd_3',\n",
    "       'wkd_4', 'wkd_5', 'wkd_6', 'month_3', 'month_4', 'month_5', 'month_6',\n",
    "       'month_7', 'month_8', 'month_9', 'month_10', 'frequency', 'f81', 'x',\n",
    "       'y']]"
   ]
  },
  {
   "cell_type": "code",
   "execution_count": null,
   "metadata": {
    "collapsed": true
   },
   "outputs": [],
   "source": [
    "oldset.columns"
   ]
  },
  {
   "cell_type": "code",
   "execution_count": null,
   "metadata": {
    "collapsed": true
   },
   "outputs": [],
   "source": [
    "oldset = normalize_dataset(oldset,d)"
   ]
  },
  {
   "cell_type": "code",
   "execution_count": null,
   "metadata": {
    "collapsed": true
   },
   "outputs": [],
   "source": [
    "oldset.to_csv('old_training_dataset_norm.csv')"
   ]
  },
  {
   "cell_type": "markdown",
   "metadata": {},
   "source": [
    "# Start from here"
   ]
  },
  {
   "cell_type": "code",
   "execution_count": 6,
   "metadata": {
    "collapsed": true
   },
   "outputs": [],
   "source": [
    "oldset = pd.read_csv('old_training_dataset_norm.csv')"
   ]
  },
  {
   "cell_type": "code",
   "execution_count": 7,
   "metadata": {
    "collapsed": true
   },
   "outputs": [],
   "source": [
    "oldset['year'] = pd.to_datetime(oldset['firedate'],format='%Y-%m-%d').dt.year"
   ]
  },
  {
   "cell_type": "code",
   "execution_count": 12,
   "metadata": {},
   "outputs": [
    {
     "data": {
      "text/plain": [
       "{'corine_124',\n",
       " 'corine_141',\n",
       " 'corine_244',\n",
       " 'corine_412',\n",
       " 'corine_422',\n",
       " 'corine_521'}"
      ]
     },
     "execution_count": 12,
     "metadata": {},
     "output_type": "execute_result"
    }
   ],
   "source": [
    "set(wcolumns)-set(oldset.columns)"
   ]
  },
  {
   "cell_type": "code",
   "execution_count": 13,
   "metadata": {
    "collapsed": true
   },
   "outputs": [],
   "source": [
    "oldset['corine_124'] = 0\n",
    "oldset['corine_141'] = 0\n",
    "oldset['corine_244'] = 0\n",
    "oldset['corine_412'] = 0\n",
    "oldset['corine_422'] = 0\n",
    "oldset['corine_521'] = 0"
   ]
  },
  {
   "cell_type": "code",
   "execution_count": 14,
   "metadata": {
    "collapsed": true
   },
   "outputs": [],
   "source": [
    "wcolumns = ['id', 'firedate',\n",
    "       'max_temp', 'min_temp', 'mean_temp', 'res_max', 'dom_vel', 'rain_7days',\n",
    "       'dem', 'slope', 'curvature', 'aspect', 'ndvi_new', 'evi', 'lst_day',\n",
    "       'lst_night', 'max_dew_temp', 'mean_dew_temp', 'min_dew_temp', 'fire',\n",
    "       'dir_max_1', 'dir_max_2', 'dir_max_3', 'dir_max_4', 'dir_max_5',\n",
    "       'dir_max_6', 'dir_max_7', 'dir_max_8', 'dom_dir_1', 'dom_dir_2',\n",
    "       'dom_dir_3', 'dom_dir_4', 'dom_dir_5', 'dom_dir_6', 'dom_dir_7',\n",
    "       'dom_dir_8', 'corine_111', 'corine_112', 'corine_121', 'corine_122',\n",
    "       'corine_123', 'corine_124', 'corine_131', 'corine_132', 'corine_133',\n",
    "       'corine_141', 'corine_142', 'corine_211', 'corine_212', 'corine_213',\n",
    "       'corine_221', 'corine_222', 'corine_223', 'corine_231', 'corine_241',\n",
    "       'corine_242', 'corine_243', 'corine_244', 'corine_311', 'corine_312',\n",
    "       'corine_313', 'corine_321', 'corine_322', 'corine_323', 'corine_324',\n",
    "       'corine_331', 'corine_332', 'corine_333', 'corine_334', 'corine_411',\n",
    "       'corine_412', 'corine_421', 'corine_422', 'corine_511', 'corine_512',\n",
    "       'corine_521', 'wkd_0', 'wkd_1', 'wkd_2', 'wkd_3', 'wkd_4', 'wkd_5',\n",
    "       'wkd_6', 'month_5', 'month_6', 'month_7', 'month_8', 'month_9',\n",
    "       'month_4', 'frequency', 'f81', 'x', 'y']"
   ]
  },
  {
   "cell_type": "code",
   "execution_count": 15,
   "metadata": {
    "collapsed": true
   },
   "outputs": [],
   "source": [
    "onlyfiles = [f for f in listdir(mypath) if isfile(join(mypath, f)) and f.endswith('dummies.csv') and f[0].isdigit()]"
   ]
  },
  {
   "cell_type": "code",
   "execution_count": 16,
   "metadata": {},
   "outputs": [
    {
     "data": {
      "text/plain": [
       "['2014_dummies.csv',\n",
       " '2013_dummies.csv',\n",
       " '2017_dummies.csv',\n",
       " '2016_dummies.csv',\n",
       " '2012_dummies.csv',\n",
       " '2018_dummies.csv',\n",
       " '2011_dummies.csv',\n",
       " '2010_dummies.csv',\n",
       " '2015_dummies.csv']"
      ]
     },
     "execution_count": 16,
     "metadata": {},
     "output_type": "execute_result"
    }
   ],
   "source": [
    "onlyfiles"
   ]
  },
  {
   "cell_type": "code",
   "execution_count": 20,
   "metadata": {},
   "outputs": [
    {
     "name": "stdout",
     "output_type": "stream",
     "text": [
      "2014_dummies.csv\n",
      "2013_dummies.csv\n",
      "2017_dummies.csv\n",
      "2016_dummies.csv\n",
      "2012_dummies.csv\n",
      "2018_dummies.csv\n",
      "2011_dummies.csv\n",
      "2010_dummies.csv\n",
      "2015_dummies.csv\n"
     ]
    }
   ],
   "source": [
    "for file in onlyfiles:\n",
    "    print(file)\n",
    "    df = pd.read_csv(file)\n",
    "    fires = df[df.fire == 1][wcolumns]\n",
    "    nonfires = df[df.fire == 0][wcolumns]\n",
    "    sample_hard_nonfires = nonfires.sample(math.ceil(fires['id'].count()/2))\n",
    "    old_nonfires = oldset[(oldset.fire == 0) & (oldset.year == int(file[0:4]))]\n",
    "    sample_old_nonfires = old_nonfires.sample(math.ceil(fires['id'].count()/2))\n",
    "    sample_old_nonfires = sample_old_nonfires[wcolumns]\n",
    "    training_dataset= pd.concat([fires,sample_hard_nonfires,sample_old_nonfires])\n",
    "    training_dataset.to_csv(file[0:4]+'_norm.csv')"
   ]
  },
  {
   "cell_type": "code",
   "execution_count": null,
   "metadata": {
    "collapsed": true
   },
   "outputs": [],
   "source": [
    "df = pd.read_csv('2014_dummies.csv')"
   ]
  },
  {
   "cell_type": "code",
   "execution_count": null,
   "metadata": {
    "collapsed": true
   },
   "outputs": [],
   "source": [
    "fires = df[df.fire == 1][wcolumns]"
   ]
  },
  {
   "cell_type": "code",
   "execution_count": null,
   "metadata": {
    "collapsed": true
   },
   "outputs": [],
   "source": [
    "fires"
   ]
  },
  {
   "cell_type": "code",
   "execution_count": null,
   "metadata": {
    "collapsed": true
   },
   "outputs": [],
   "source": [
    "sample_hard_nonfires.columns"
   ]
  },
  {
   "cell_type": "code",
   "execution_count": null,
   "metadata": {
    "collapsed": true
   },
   "outputs": [],
   "source": [
    "oldset[oldset.year == int(file[0:4])]"
   ]
  },
  {
   "cell_type": "code",
   "execution_count": null,
   "metadata": {
    "collapsed": true
   },
   "outputs": [],
   "source": [
    "file = '2014_dummies.csv'"
   ]
  },
  {
   "cell_type": "code",
   "execution_count": null,
   "metadata": {
    "collapsed": true
   },
   "outputs": [],
   "source": [
    "file[0:4]"
   ]
  },
  {
   "cell_type": "code",
   "execution_count": 25,
   "metadata": {},
   "outputs": [
    {
     "data": {
      "text/plain": [
       "Index(['id', 'firedate', 'max_temp', 'min_temp', 'mean_temp', 'res_max',\n",
       "       'dom_vel', 'rain_7days', 'dem', 'slope', 'curvature', 'aspect',\n",
       "       'ndvi_new', 'evi', 'lst_day', 'lst_night', 'max_dew_temp',\n",
       "       'mean_dew_temp', 'min_dew_temp', 'fire', 'dir_max_1', 'dir_max_2',\n",
       "       'dir_max_3', 'dir_max_4', 'dir_max_5', 'dir_max_6', 'dir_max_7',\n",
       "       'dir_max_8', 'dom_dir_1', 'dom_dir_2', 'dom_dir_3', 'dom_dir_4',\n",
       "       'dom_dir_5', 'dom_dir_6', 'dom_dir_7', 'dom_dir_8', 'corine_111',\n",
       "       'corine_112', 'corine_121', 'corine_122', 'corine_123', 'corine_124',\n",
       "       'corine_131', 'corine_132', 'corine_133', 'corine_141', 'corine_142',\n",
       "       'corine_211', 'corine_212', 'corine_213', 'corine_221', 'corine_222',\n",
       "       'corine_223', 'corine_231', 'corine_241', 'corine_242', 'corine_243',\n",
       "       'corine_244', 'corine_311', 'corine_312', 'corine_313', 'corine_321',\n",
       "       'corine_322', 'corine_323', 'corine_324', 'corine_331', 'corine_332',\n",
       "       'corine_333', 'corine_334', 'corine_411', 'corine_412', 'corine_421',\n",
       "       'corine_422', 'corine_511', 'corine_512', 'corine_521', 'wkd_0',\n",
       "       'wkd_1', 'wkd_2', 'wkd_3', 'wkd_4', 'wkd_5', 'wkd_6', 'month_5',\n",
       "       'month_6', 'month_7', 'month_8', 'month_9', 'month_4', 'frequency',\n",
       "       'f81', 'x', 'y'],\n",
       "      dtype='object')"
      ]
     },
     "execution_count": 25,
     "metadata": {},
     "output_type": "execute_result"
    }
   ],
   "source": [
    "training_dataset.columns"
   ]
  },
  {
   "cell_type": "code",
   "execution_count": 4,
   "metadata": {
    "collapsed": true
   },
   "outputs": [],
   "source": [
    "df = pd.read_csv('/work2/pa21/sgirtsou/production/2010/05/may_2010_norm.csv')"
   ]
  },
  {
   "cell_type": "code",
   "execution_count": 6,
   "metadata": {},
   "outputs": [
    {
     "data": {
      "text/plain": [
       "Index(['Unnamed: 0', 'Unnamed: 0.1', 'id', 'firedate', 'max_temp', 'min_temp',\n",
       "       'mean_temp', 'res_max', 'dom_vel', 'rain_7days', 'dem', 'slope',\n",
       "       'curvature', 'aspect', 'ndvi_new', 'evi', 'lst_day', 'lst_night',\n",
       "       'max_dew_temp', 'mean_dew_temp', 'min_dew_temp', 'fire', 'dir_max_1',\n",
       "       'dir_max_2', 'dir_max_3', 'dir_max_4', 'dir_max_5', 'dir_max_6',\n",
       "       'dir_max_7', 'dir_max_8', 'dom_dir_1', 'dom_dir_2', 'dom_dir_3',\n",
       "       'dom_dir_4', 'dom_dir_5', 'dom_dir_6', 'dom_dir_7', 'dom_dir_8',\n",
       "       'corine_111', 'corine_112', 'corine_121', 'corine_122', 'corine_123',\n",
       "       'corine_124', 'corine_131', 'corine_132', 'corine_133', 'corine_141',\n",
       "       'corine_142', 'corine_211', 'corine_212', 'corine_213', 'corine_221',\n",
       "       'corine_222', 'corine_223', 'corine_231', 'corine_241', 'corine_242',\n",
       "       'corine_243', 'corine_244', 'corine_311', 'corine_312', 'corine_313',\n",
       "       'corine_321', 'corine_322', 'corine_323', 'corine_324', 'corine_331',\n",
       "       'corine_332', 'corine_333', 'corine_334', 'corine_411', 'corine_412',\n",
       "       'corine_421', 'corine_422', 'corine_511', 'corine_512', 'corine_521',\n",
       "       'wkd_0', 'wkd_1', 'wkd_2', 'wkd_3', 'wkd_4', 'wkd_5', 'wkd_6',\n",
       "       'month_5', 'month_4', 'month_6', 'month_7', 'month_8', 'month_9',\n",
       "       'frequency', 'f81', 'x', 'y'],\n",
       "      dtype='object')"
      ]
     },
     "execution_count": 6,
     "metadata": {},
     "output_type": "execute_result"
    }
   ],
   "source": [
    "df.columns"
   ]
  },
  {
   "cell_type": "code",
   "execution_count": null,
   "metadata": {
    "collapsed": true
   },
   "outputs": [],
   "source": []
  }
 ],
 "metadata": {
  "kernelspec": {
   "display_name": "Python 3",
   "language": "python",
   "name": "python3"
  },
  "language_info": {
   "codemirror_mode": {
    "name": "ipython",
    "version": 3
   },
   "file_extension": ".py",
   "mimetype": "text/x-python",
   "name": "python",
   "nbconvert_exporter": "python",
   "pygments_lexer": "ipython3",
   "version": "3.6.9"
  }
 },
 "nbformat": 4,
 "nbformat_minor": 2
}
