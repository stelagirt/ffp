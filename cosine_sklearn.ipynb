{
 "cells": [
  {
   "cell_type": "code",
   "execution_count": 1,
   "metadata": {
    "collapsed": true
   },
   "outputs": [],
   "source": [
    "import pandas as pd\n",
    "import sklearn.metrics\n",
    "import os\n",
    "import numpy as np\n",
    "from numpy import unravel_index\n",
    "import collections"
   ]
  },
  {
   "cell_type": "code",
   "execution_count": 9,
   "metadata": {
    "collapsed": true
   },
   "outputs": [],
   "source": [
    "dict = {}\n",
    "for folder, subfolders, files in os.walk('/work2/pa21/sgirtsou/production', topdown=True):\n",
    "    for file in files:\n",
    "        if file.endswith('norm.csv'):\n",
    "            if file.split('_')[1] in dict:\n",
    "                dict[file.split('_')[1]].append(os.path.join(os.path.abspath(folder), file))\n",
    "            else:\n",
    "                dict[file.split('_')[1]]=[]\n",
    "                dict[file.split('_')[1]].append(os.path.join(os.path.abspath(folder), file))"
   ]
  },
  {
   "cell_type": "code",
   "execution_count": 10,
   "metadata": {
    "collapsed": true
   },
   "outputs": [
    {
     "data": {
      "text/plain": [
       "{'2010': ['/work2/pa21/sgirtsou/production/2010/05/may_2010_norm.csv',\n",
       "  '/work2/pa21/sgirtsou/production/2010/08/august_2010_norm.csv',\n",
       "  '/work2/pa21/sgirtsou/production/2010/09/september_2010_norm.csv',\n",
       "  '/work2/pa21/sgirtsou/production/2010/04/april_2010_norm.csv',\n",
       "  '/work2/pa21/sgirtsou/production/2010/07/july_2010_norm.csv',\n",
       "  '/work2/pa21/sgirtsou/production/2010/06/june_2010_norm.csv'],\n",
       " '2011': ['/work2/pa21/sgirtsou/production/2011/05/may_2011_norm.csv',\n",
       "  '/work2/pa21/sgirtsou/production/2011/08/august_2011_norm.csv',\n",
       "  '/work2/pa21/sgirtsou/production/2011/09/september_2011_norm.csv',\n",
       "  '/work2/pa21/sgirtsou/production/2011/04/april_2011_norm.csv',\n",
       "  '/work2/pa21/sgirtsou/production/2011/07/july_2011_norm.csv',\n",
       "  '/work2/pa21/sgirtsou/production/2011/06/june_2011_norm.csv'],\n",
       " '2012': ['/work2/pa21/sgirtsou/production/2012/05/may_2012_norm.csv',\n",
       "  '/work2/pa21/sgirtsou/production/2012/08/august_2012_norm.csv',\n",
       "  '/work2/pa21/sgirtsou/production/2012/09/september_2012_norm.csv',\n",
       "  '/work2/pa21/sgirtsou/production/2012/04/april_2012_norm.csv',\n",
       "  '/work2/pa21/sgirtsou/production/2012/07/july_2012_norm.csv',\n",
       "  '/work2/pa21/sgirtsou/production/2012/06/june_2012_norm.csv'],\n",
       " '2013': ['/work2/pa21/sgirtsou/production/2013/05/may_2013_norm.csv',\n",
       "  '/work2/pa21/sgirtsou/production/2013/08/august_2013_norm.csv',\n",
       "  '/work2/pa21/sgirtsou/production/2013/09/september_2013_norm.csv',\n",
       "  '/work2/pa21/sgirtsou/production/2013/04/april_2013_norm.csv',\n",
       "  '/work2/pa21/sgirtsou/production/2013/07/july_2013_norm.csv',\n",
       "  '/work2/pa21/sgirtsou/production/2013/06/june_2013_norm.csv'],\n",
       " '2014': ['/work2/pa21/sgirtsou/production/2014/05/may_2014_norm.csv',\n",
       "  '/work2/pa21/sgirtsou/production/2014/08/august_2014_norm.csv',\n",
       "  '/work2/pa21/sgirtsou/production/2014/09/september_2014_norm.csv',\n",
       "  '/work2/pa21/sgirtsou/production/2014/04/april_2014_norm.csv',\n",
       "  '/work2/pa21/sgirtsou/production/2014/07/july_2014_norm.csv',\n",
       "  '/work2/pa21/sgirtsou/production/2014/06/june_2014_norm.csv'],\n",
       " '2015': ['/work2/pa21/sgirtsou/production/2015/05/may_2015_norm.csv',\n",
       "  '/work2/pa21/sgirtsou/production/2015/08/august_2015_norm.csv',\n",
       "  '/work2/pa21/sgirtsou/production/2015/09/september_2015_norm.csv',\n",
       "  '/work2/pa21/sgirtsou/production/2015/04/april_2015_norm.csv',\n",
       "  '/work2/pa21/sgirtsou/production/2015/07/july_2015_norm.csv',\n",
       "  '/work2/pa21/sgirtsou/production/2015/06/june_2015_norm.csv'],\n",
       " '2016': ['/work2/pa21/sgirtsou/production/2016/05/may_2016_norm.csv',\n",
       "  '/work2/pa21/sgirtsou/production/2016/08/august_2016_norm.csv',\n",
       "  '/work2/pa21/sgirtsou/production/2016/09/september_2016_norm.csv',\n",
       "  '/work2/pa21/sgirtsou/production/2016/04/april_2016_norm.csv',\n",
       "  '/work2/pa21/sgirtsou/production/2016/07/july_2016_norm.csv',\n",
       "  '/work2/pa21/sgirtsou/production/2016/06/june_2016_norm.csv'],\n",
       " '2017': ['/work2/pa21/sgirtsou/production/2017/05/may_2017_norm.csv',\n",
       "  '/work2/pa21/sgirtsou/production/2017/08/august_2017_norm.csv',\n",
       "  '/work2/pa21/sgirtsou/production/2017/09/september_2017_norm.csv',\n",
       "  '/work2/pa21/sgirtsou/production/2017/04/april_2017_norm.csv',\n",
       "  '/work2/pa21/sgirtsou/production/2017/07/july_2017_norm.csv',\n",
       "  '/work2/pa21/sgirtsou/production/2017/06/june_2017_norm.csv'],\n",
       " '2018': ['/work2/pa21/sgirtsou/production/2018/05/may_2018_norm.csv',\n",
       "  '/work2/pa21/sgirtsou/production/2018/08/august_2018_norm.csv',\n",
       "  '/work2/pa21/sgirtsou/production/2018/09/september_2018_norm.csv',\n",
       "  '/work2/pa21/sgirtsou/production/2018/04/april_2018_norm.csv',\n",
       "  '/work2/pa21/sgirtsou/production/2018/07/july_2018_norm.csv'],\n",
       " '2019': ['/work2/pa21/sgirtsou/production/2019/05/may_2019_norm.csv',\n",
       "  '/work2/pa21/sgirtsou/production/2019/08/august_2019_norm.csv',\n",
       "  '/work2/pa21/sgirtsou/production/2019/09/september_2019_norm.csv',\n",
       "  '/work2/pa21/sgirtsou/production/2019/04/april_2019_norm.csv',\n",
       "  '/work2/pa21/sgirtsou/production/2019/07/july_2019_norm.csv',\n",
       "  '/work2/pa21/sgirtsou/production/2019/06/june_2019_norm.csv'],\n",
       " 'dataset': ['/work2/pa21/sgirtsou/production/datasets/hard_cosine_similarity/full_dataset_norm.csv'],\n",
       " 'norm.csv': ['/work2/pa21/sgirtsou/production/datasets/hard_cosine_similarity/2016_norm.csv',\n",
       "  '/work2/pa21/sgirtsou/production/datasets/hard_cosine_similarity/2015_norm.csv',\n",
       "  '/work2/pa21/sgirtsou/production/datasets/hard_cosine_similarity/2014_norm.csv',\n",
       "  '/work2/pa21/sgirtsou/production/datasets/hard_cosine_similarity/2017_norm.csv',\n",
       "  '/work2/pa21/sgirtsou/production/datasets/hard_cosine_similarity/2012_norm.csv',\n",
       "  '/work2/pa21/sgirtsou/production/datasets/hard_cosine_similarity/2011_norm.csv',\n",
       "  '/work2/pa21/sgirtsou/production/datasets/hard_cosine_similarity/2010_norm.csv',\n",
       "  '/work2/pa21/sgirtsou/production/datasets/hard_cosine_similarity/2018_norm.csv',\n",
       "  '/work2/pa21/sgirtsou/production/datasets/hard_cosine_similarity/2013_norm.csv'],\n",
       " 'random': ['/work2/pa21/sgirtsou/production/datasets/randomnofire/old_random_new_features_norm.csv'],\n",
       " 'training': ['/work2/pa21/sgirtsou/production/datasets/hard_cosine_similarity/old_training_dataset_norm.csv']}"
      ]
     },
     "execution_count": 10,
     "metadata": {},
     "output_type": "execute_result"
    }
   ],
   "source": [
    "dict"
   ]
  },
  {
   "cell_type": "code",
   "execution_count": 2,
   "metadata": {
    "collapsed": true
   },
   "outputs": [],
   "source": [
    "dict = {'2010': ['/work2/pa21/sgirtsou/production/2010/05/may_2010_norm.csv',\n",
    "  '/work2/pa21/sgirtsou/production/2010/08/august_2010_norm.csv',\n",
    "  '/work2/pa21/sgirtsou/production/2010/09/september_2010_norm.csv',\n",
    "  '/work2/pa21/sgirtsou/production/2010/04/april_2010_norm.csv',\n",
    "  '/work2/pa21/sgirtsou/production/2010/07/july_2010_norm.csv',\n",
    "  '/work2/pa21/sgirtsou/production/2010/06/june_2010_norm.csv'],\n",
    " '2011': ['/work2/pa21/sgirtsou/production/2011/05/may_2011_norm.csv',\n",
    "  '/work2/pa21/sgirtsou/production/2011/08/august_2011_norm.csv',\n",
    "  '/work2/pa21/sgirtsou/production/2011/09/september_2011_norm.csv',\n",
    "  '/work2/pa21/sgirtsou/production/2011/04/april_2011_norm.csv',\n",
    "  '/work2/pa21/sgirtsou/production/2011/07/july_2011_norm.csv',\n",
    "  '/work2/pa21/sgirtsou/production/2011/06/june_2011_norm.csv'],\n",
    " '2012': ['/work2/pa21/sgirtsou/production/2012/05/may_2012_norm.csv',\n",
    "  '/work2/pa21/sgirtsou/production/2012/08/august_2012_norm.csv',\n",
    "  '/work2/pa21/sgirtsou/production/2012/09/september_2012_norm.csv',\n",
    "  '/work2/pa21/sgirtsou/production/2012/04/april_2012_norm.csv',\n",
    "  '/work2/pa21/sgirtsou/production/2012/07/july_2012_norm.csv',\n",
    "  '/work2/pa21/sgirtsou/production/2012/06/june_2012_norm.csv'],\n",
    " '2013': ['/work2/pa21/sgirtsou/production/2013/05/may_2013_norm.csv',\n",
    "  '/work2/pa21/sgirtsou/production/2013/08/august_2013_norm.csv',\n",
    "  '/work2/pa21/sgirtsou/production/2013/09/september_2013_norm.csv',\n",
    "  '/work2/pa21/sgirtsou/production/2013/04/april_2013_norm.csv',\n",
    "  '/work2/pa21/sgirtsou/production/2013/07/july_2013_norm.csv',\n",
    "  '/work2/pa21/sgirtsou/production/2013/06/june_2013_norm.csv'],\n",
    " '2014': ['/work2/pa21/sgirtsou/production/2014/05/may_2014_norm.csv',\n",
    "  '/work2/pa21/sgirtsou/production/2014/08/august_2014_norm.csv',\n",
    "  '/work2/pa21/sgirtsou/production/2014/09/september_2014_norm.csv',\n",
    "  '/work2/pa21/sgirtsou/production/2014/04/april_2014_norm.csv',\n",
    "  '/work2/pa21/sgirtsou/production/2014/07/july_2014_norm.csv',\n",
    "  '/work2/pa21/sgirtsou/production/2014/06/june_2014_norm.csv'],\n",
    " '2015': ['/work2/pa21/sgirtsou/production/2015/05/may_2015_norm.csv',\n",
    "  '/work2/pa21/sgirtsou/production/2015/08/august_2015_norm.csv',\n",
    "  '/work2/pa21/sgirtsou/production/2015/09/september_2015_norm.csv',\n",
    "  '/work2/pa21/sgirtsou/production/2015/04/april_2015_norm.csv',\n",
    "  '/work2/pa21/sgirtsou/production/2015/07/july_2015_norm.csv',\n",
    "  '/work2/pa21/sgirtsou/production/2015/06/june_2015_norm.csv'],\n",
    " '2016': ['/work2/pa21/sgirtsou/production/2016/05/may_2016_norm.csv',\n",
    "  '/work2/pa21/sgirtsou/production/2016/08/august_2016_norm.csv',\n",
    "  '/work2/pa21/sgirtsou/production/2016/09/september_2016_norm.csv',\n",
    "  '/work2/pa21/sgirtsou/production/2016/04/april_2016_norm.csv',\n",
    "  '/work2/pa21/sgirtsou/production/2016/07/july_2016_norm.csv',\n",
    "  '/work2/pa21/sgirtsou/production/2016/06/june_2016_norm.csv'],\n",
    " '2017': ['/work2/pa21/sgirtsou/production/2017/05/may_2017_norm.csv',\n",
    "  '/work2/pa21/sgirtsou/production/2017/08/august_2017_norm.csv',\n",
    "  '/work2/pa21/sgirtsou/production/2017/09/september_2017_norm.csv',\n",
    "  '/work2/pa21/sgirtsou/production/2017/04/april_2017_norm.csv',\n",
    "  '/work2/pa21/sgirtsou/production/2017/07/july_2017_norm.csv',\n",
    "  '/work2/pa21/sgirtsou/production/2017/06/june_2017_norm.csv'],\n",
    " '2018': ['/work2/pa21/sgirtsou/production/2018/05/may_2018_norm.csv',\n",
    "  '/work2/pa21/sgirtsou/production/2018/08/august_2018_norm.csv',\n",
    "  '/work2/pa21/sgirtsou/production/2018/09/september_2018_norm.csv',\n",
    "  '/work2/pa21/sgirtsou/production/2018/04/april_2018_norm.csv',\n",
    "  '/work2/pa21/sgirtsou/production/2018/07/july_2018_norm.csv'],\n",
    " '2019': ['/work2/pa21/sgirtsou/production/2019/05/may_2019_norm.csv',\n",
    "  '/work2/pa21/sgirtsou/production/2019/08/august_2019_norm.csv',\n",
    "  '/work2/pa21/sgirtsou/production/2019/09/september_2019_norm.csv',\n",
    "  '/work2/pa21/sgirtsou/production/2019/04/april_2019_norm.csv',\n",
    "  '/work2/pa21/sgirtsou/production/2019/07/july_2019_norm.csv',\n",
    "  '/work2/pa21/sgirtsou/production/2019/06/june_2019_norm.csv'],\n",
    "    '2020': ['/users/pa21/sgirtsou/production/2020/08/august_2020_norm.csv',\n",
    "  '/users/pa21/sgirtsou/production/2020/09/september_2020_norm.csv',\n",
    "  '/users/pa21/sgirtsou/production/2020/07/july_2020_norm.csv',\n",
    "  '/users/pa21/sgirtsou/production/2020/06/june_2020_norm.csv']}"
   ]
  },
  {
   "cell_type": "code",
   "execution_count": 6,
   "metadata": {
    "collapsed": true
   },
   "outputs": [],
   "source": [
    "dict = {'2020': ['/users/pa21/sgirtsou/production/2020/08/august_2020_norm.csv',\n",
    "  '/users/pa21/sgirtsou/production/2020/09/september_2020_norm.csv',\n",
    "  '/users/pa21/sgirtsou/production/2020/07/july_2020_norm.csv',\n",
    "  '/users/pa21/sgirtsou/production/2020/06/june_2020_norm.csv']}"
   ]
  },
  {
   "cell_type": "code",
   "execution_count": 3,
   "metadata": {
    "collapsed": true
   },
   "outputs": [],
   "source": [
    "def cosine_similarity(df):\n",
    "    sim = []\n",
    "    c = collections.Counter()\n",
    "    bins = [0, 0.1,0.2, 0.3,0.4, 0.5,0.6,0.7,0.8,0.9,1]\n",
    "    fires = df[df.fire == 1].reset_index()[['max_temp', 'min_temp', 'mean_temp', 'res_max',\n",
    "       'dom_vel', 'rain_7days', 'dem', 'slope', 'curvature', 'aspect',\n",
    "       'ndvi_new', 'evi', 'lst_day', 'lst_night', 'max_dew_temp',\n",
    "       'mean_dew_temp', 'min_dew_temp', 'fire', 'dir_max_1', 'dir_max_2',\n",
    "       'dir_max_3', 'dir_max_4', 'dir_max_5', 'dir_max_6', 'dir_max_7',\n",
    "       'dir_max_8', 'dom_dir_1', 'dom_dir_2', 'dom_dir_3', 'dom_dir_4',\n",
    "       'dom_dir_5', 'dom_dir_6', 'dom_dir_7', 'dom_dir_8', 'corine_111',\n",
    "       'corine_112', 'corine_121', 'corine_122', 'corine_123', 'corine_124',\n",
    "       'corine_131', 'corine_132', 'corine_133', 'corine_141', 'corine_142',\n",
    "       'corine_211', 'corine_212', 'corine_213', 'corine_221', 'corine_222',\n",
    "       'corine_223', 'corine_231', 'corine_241', 'corine_242', 'corine_243',\n",
    "       'corine_244', 'corine_311', 'corine_312', 'corine_313', 'corine_321',\n",
    "       'corine_322', 'corine_323', 'corine_324', 'corine_331', 'corine_332',\n",
    "       'corine_333', 'corine_334', 'corine_411', 'corine_412', 'corine_421',\n",
    "       'corine_422', 'corine_511', 'corine_512', 'corine_521']]\n",
    "    n = fires.max_temp.count()\n",
    "    print(n,' fires found')\n",
    "    nofires = df[df.fire == 0][['max_temp', 'min_temp', 'mean_temp', 'res_max',\n",
    "       'dom_vel', 'rain_7days', 'dem', 'slope', 'curvature', 'aspect',\n",
    "       'ndvi_new', 'evi', 'lst_day', 'lst_night', 'max_dew_temp',\n",
    "       'mean_dew_temp', 'min_dew_temp', 'fire', 'dir_max_1', 'dir_max_2',\n",
    "       'dir_max_3', 'dir_max_4', 'dir_max_5', 'dir_max_6', 'dir_max_7',\n",
    "       'dir_max_8', 'dom_dir_1', 'dom_dir_2', 'dom_dir_3', 'dom_dir_4',\n",
    "       'dom_dir_5', 'dom_dir_6', 'dom_dir_7', 'dom_dir_8', 'corine_111',\n",
    "       'corine_112', 'corine_121', 'corine_122', 'corine_123', 'corine_124',\n",
    "       'corine_131', 'corine_132', 'corine_133', 'corine_141', 'corine_142',\n",
    "       'corine_211', 'corine_212', 'corine_213', 'corine_221', 'corine_222',\n",
    "       'corine_223', 'corine_231', 'corine_241', 'corine_242', 'corine_243',\n",
    "       'corine_244', 'corine_311', 'corine_312', 'corine_313', 'corine_321',\n",
    "       'corine_322', 'corine_323', 'corine_324', 'corine_331', 'corine_332',\n",
    "       'corine_333', 'corine_334', 'corine_411', 'corine_412', 'corine_421',\n",
    "       'corine_422', 'corine_511', 'corine_512', 'corine_521']]\n",
    "    if n == 0:\n",
    "        return 0,0\n",
    "    else:\n",
    "        #for i in range(0,n,20):\n",
    "        similarity = sklearn.metrics.pairwise.cosine_similarity(fires, Y=fires, dense_output=True)\n",
    "        print(i)\n",
    "        similarity_f = similarity.flatten()\n",
    "        bin_indices = np.digitize(similarity_f, bins)\n",
    "        c1 = collections.Counter(bin_indices)\n",
    "        c = c+c1\n",
    "        return c1"
   ]
  },
  {
   "cell_type": "code",
   "execution_count": 4,
   "metadata": {
    "collapsed": true
   },
   "outputs": [],
   "source": [
    "def find_n_similar(n,similarity):\n",
    "    my_list = []\n",
    "    for i in range (1,n+1):\n",
    "        print(i,'/',n)\n",
    "        k,l = unravel_index(similarity.argmax(), similarity.shape)\n",
    "        print(similarity[k,l])\n",
    "        print(l)\n",
    "        my_list.append(l)\n",
    "        similarity[k,l] = 0\n",
    "        print(similarity[k,l])\n",
    "    return my_list"
   ]
  },
  {
   "cell_type": "code",
   "execution_count": 5,
   "metadata": {
    "collapsed": true
   },
   "outputs": [
    {
     "name": "stdout",
     "output_type": "stream",
     "text": [
      "Year:2010\n",
      "may_2010_norm.csv\n",
      "3  fires found\n",
      "0\n",
      "august_2010_norm.csv\n",
      "347  fires found\n",
      "1\n",
      "september_2010_norm.csv\n",
      "63  fires found\n",
      "2\n",
      "april_2010_norm.csv\n",
      "0  fires found\n"
     ]
    },
    {
     "ename": "AttributeError",
     "evalue": "'tuple' object has no attribute 'values'",
     "output_type": "error",
     "traceback": [
      "\u001b[0;31m---------------------------------------------------------------------------\u001b[0m",
      "\u001b[0;31mAttributeError\u001b[0m                            Traceback (most recent call last)",
      "\u001b[0;32m<ipython-input-5-72bd04e3ef6e>\u001b[0m in \u001b[0;36m<module>\u001b[0;34m()\u001b[0m\n\u001b[1;32m     15\u001b[0m \u001b[0;31m#             bin_indices = np.digitize(similarity_f, bins)\u001b[0m\u001b[0;34m\u001b[0m\u001b[0;34m\u001b[0m\u001b[0m\n\u001b[1;32m     16\u001b[0m \u001b[0;31m#             c1 = collections.Counter(bin_indices)\u001b[0m\u001b[0;34m\u001b[0m\u001b[0;34m\u001b[0m\u001b[0m\n\u001b[0;32m---> 17\u001b[0;31m         \u001b[0mnfiresbins\u001b[0m \u001b[0;34m=\u001b[0m \u001b[0mpd\u001b[0m\u001b[0;34m.\u001b[0m\u001b[0mDataFrame\u001b[0m\u001b[0;34m.\u001b[0m\u001b[0mfrom_dict\u001b[0m\u001b[0;34m(\u001b[0m\u001b[0mc\u001b[0m\u001b[0;34m,\u001b[0m\u001b[0morient\u001b[0m\u001b[0;34m=\u001b[0m\u001b[0;34m'index'\u001b[0m\u001b[0;34m)\u001b[0m\u001b[0;34m.\u001b[0m\u001b[0msort_index\u001b[0m\u001b[0;34m(\u001b[0m\u001b[0;34m)\u001b[0m\u001b[0;34m\u001b[0m\u001b[0m\n\u001b[0m\u001b[1;32m     18\u001b[0m         \u001b[0mnfiresbins\u001b[0m\u001b[0;34m.\u001b[0m\u001b[0mto_csv\u001b[0m\u001b[0;34m(\u001b[0m\u001b[0;34m'/users/pa21/sgirtsou/production/fire_similarities_'\u001b[0m\u001b[0;34m+\u001b[0m\u001b[0mkey\u001b[0m\u001b[0;34m+\u001b[0m\u001b[0;34m'_'\u001b[0m\u001b[0;34m+\u001b[0m\u001b[0mfilename\u001b[0m\u001b[0;34m.\u001b[0m\u001b[0msplit\u001b[0m\u001b[0;34m(\u001b[0m\u001b[0;34m'/'\u001b[0m\u001b[0;34m)\u001b[0m\u001b[0;34m[\u001b[0m\u001b[0;34m-\u001b[0m\u001b[0;36m1\u001b[0m\u001b[0;34m]\u001b[0m\u001b[0;34m.\u001b[0m\u001b[0msplit\u001b[0m\u001b[0;34m(\u001b[0m\u001b[0;34m'_'\u001b[0m\u001b[0;34m)\u001b[0m\u001b[0;34m[\u001b[0m\u001b[0;36m0\u001b[0m\u001b[0;34m]\u001b[0m\u001b[0;34m+\u001b[0m\u001b[0;34m'.csv'\u001b[0m\u001b[0;34m)\u001b[0m\u001b[0;34m\u001b[0m\u001b[0m\n",
      "\u001b[0;32m/apps/applications/python/anaconda3/5.0.1/lib/python3.6/site-packages/pandas/core/frame.py\u001b[0m in \u001b[0;36mfrom_dict\u001b[0;34m(cls, data, orient, dtype)\u001b[0m\n\u001b[1;32m    842\u001b[0m             \u001b[0;32mif\u001b[0m \u001b[0mlen\u001b[0m\u001b[0;34m(\u001b[0m\u001b[0mdata\u001b[0m\u001b[0;34m)\u001b[0m \u001b[0;34m>\u001b[0m \u001b[0;36m0\u001b[0m\u001b[0;34m:\u001b[0m\u001b[0;34m\u001b[0m\u001b[0m\n\u001b[1;32m    843\u001b[0m                 \u001b[0;31m# TODO speed up Series case\u001b[0m\u001b[0;34m\u001b[0m\u001b[0;34m\u001b[0m\u001b[0m\n\u001b[0;32m--> 844\u001b[0;31m                 \u001b[0;32mif\u001b[0m \u001b[0misinstance\u001b[0m\u001b[0;34m(\u001b[0m\u001b[0mlist\u001b[0m\u001b[0;34m(\u001b[0m\u001b[0mdata\u001b[0m\u001b[0;34m.\u001b[0m\u001b[0mvalues\u001b[0m\u001b[0;34m(\u001b[0m\u001b[0;34m)\u001b[0m\u001b[0;34m)\u001b[0m\u001b[0;34m[\u001b[0m\u001b[0;36m0\u001b[0m\u001b[0;34m]\u001b[0m\u001b[0;34m,\u001b[0m \u001b[0;34m(\u001b[0m\u001b[0mSeries\u001b[0m\u001b[0;34m,\u001b[0m \u001b[0mdict\u001b[0m\u001b[0;34m)\u001b[0m\u001b[0;34m)\u001b[0m\u001b[0;34m:\u001b[0m\u001b[0;34m\u001b[0m\u001b[0m\n\u001b[0m\u001b[1;32m    845\u001b[0m                     \u001b[0mdata\u001b[0m \u001b[0;34m=\u001b[0m \u001b[0m_from_nested_dict\u001b[0m\u001b[0;34m(\u001b[0m\u001b[0mdata\u001b[0m\u001b[0;34m)\u001b[0m\u001b[0;34m\u001b[0m\u001b[0m\n\u001b[1;32m    846\u001b[0m                 \u001b[0;32melse\u001b[0m\u001b[0;34m:\u001b[0m\u001b[0;34m\u001b[0m\u001b[0m\n",
      "\u001b[0;31mAttributeError\u001b[0m: 'tuple' object has no attribute 'values'"
     ]
    }
   ],
   "source": [
    "for key in sorted(dict.keys()):\n",
    "    print('Year:'+key)\n",
    "    for i, filename in enumerate(dict[key]):\n",
    "        df = pd.read_csv(filename)\n",
    "        df = df.fillna(0)\n",
    "        df = df.round(3)\n",
    "        print(filename.split('/')[-1])\n",
    "        c = cosine_similarity(df)\n",
    "        del df\n",
    "#         if n == 0:\n",
    "#             continue\n",
    "#         else:\n",
    "#             similarity_f = similarity.flatten()\n",
    "#             bins = [0, 0.1,0.2, 0.3,0.4, 0.5,0.6,0.7,0.8,0.9,1]\n",
    "#             bin_indices = np.digitize(similarity_f, bins)\n",
    "#             c1 = collections.Counter(bin_indices)\n",
    "        nfiresbins = pd.DataFrame.from_dict(c,orient='index').sort_index()\n",
    "        nfiresbins.to_csv('/users/pa21/sgirtsou/production/fire_similarities_'+key+'_'+filename.split('/')[-1].split('_')[0]+'.csv')"
   ]
  },
  {
   "cell_type": "code",
   "execution_count": 7,
   "metadata": {
    "collapsed": true
   },
   "outputs": [],
   "source": [
    "df = pd.read_csv('/work2/pa21/sgirtsou/production/2010/05/may_2010_norm.csv')"
   ]
  },
  {
   "cell_type": "code",
   "execution_count": null,
   "metadata": {
    "collapsed": true
   },
   "outputs": [],
   "source": []
  },
  {
   "cell_type": "code",
   "execution_count": 24,
   "metadata": {
    "collapsed": true
   },
   "outputs": [],
   "source": [
    "sim = []\n",
    "c = collections.Counter()\n",
    "bins = [0, 0.1,0.2, 0.3,0.4, 0.5,0.6,0.7,0.8,0.9,2]\n",
    "fires = df[df.fire == 1].reset_index()[['max_temp', 'min_temp', 'mean_temp', 'res_max',\n",
    "       'dom_vel', 'rain_7days', 'dem', 'slope', 'curvature', 'aspect',\n",
    "       'ndvi_new', 'evi', 'lst_day', 'lst_night', 'max_dew_temp',\n",
    "       'mean_dew_temp', 'min_dew_temp', 'fire', 'dir_max_1', 'dir_max_2',\n",
    "       'dir_max_3', 'dir_max_4', 'dir_max_5', 'dir_max_6', 'dir_max_7',\n",
    "       'dir_max_8', 'dom_dir_1', 'dom_dir_2', 'dom_dir_3', 'dom_dir_4',\n",
    "       'dom_dir_5', 'dom_dir_6', 'dom_dir_7', 'dom_dir_8', 'corine_111',\n",
    "       'corine_112', 'corine_121', 'corine_122', 'corine_123', 'corine_124',\n",
    "       'corine_131', 'corine_132', 'corine_133', 'corine_141', 'corine_142',\n",
    "       'corine_211', 'corine_212', 'corine_213', 'corine_221', 'corine_222',\n",
    "       'corine_223', 'corine_231', 'corine_241', 'corine_242', 'corine_243',\n",
    "       'corine_244', 'corine_311', 'corine_312', 'corine_313', 'corine_321',\n",
    "       'corine_322', 'corine_323', 'corine_324', 'corine_331', 'corine_332',\n",
    "       'corine_333', 'corine_334', 'corine_411', 'corine_412', 'corine_421',\n",
    "       'corine_422', 'corine_511', 'corine_512', 'corine_521']]"
   ]
  },
  {
   "cell_type": "code",
   "execution_count": 25,
   "metadata": {},
   "outputs": [
    {
     "data": {
      "text/plain": [
       "Counter()"
      ]
     },
     "execution_count": 25,
     "metadata": {},
     "output_type": "execute_result"
    }
   ],
   "source": [
    "c"
   ]
  },
  {
   "cell_type": "code",
   "execution_count": 6,
   "metadata": {
    "collapsed": true
   },
   "outputs": [],
   "source": [
    "df = pd.read_csv('/work2/pa21/sgirtsou/production/2011/08/august_2011_norm.csv')"
   ]
  },
  {
   "cell_type": "code",
   "execution_count": 7,
   "metadata": {
    "collapsed": true
   },
   "outputs": [],
   "source": [
    "df = df.round(3)"
   ]
  },
  {
   "cell_type": "code",
   "execution_count": 8,
   "metadata": {
    "collapsed": true
   },
   "outputs": [],
   "source": [
    "sim = []\n",
    "fires = df[df.fire == 1].reset_index()[['max_temp', 'min_temp', 'mean_temp', 'res_max',\n",
    "       'dom_vel', 'rain_7days', 'dem', 'slope', 'curvature', 'aspect',\n",
    "       'ndvi_new', 'evi', 'lst_day', 'lst_night', 'max_dew_temp',\n",
    "       'mean_dew_temp', 'min_dew_temp', 'fire', 'dir_max_1', 'dir_max_2',\n",
    "       'dir_max_3', 'dir_max_4', 'dir_max_5', 'dir_max_6', 'dir_max_7',\n",
    "       'dir_max_8', 'dom_dir_1', 'dom_dir_2', 'dom_dir_3', 'dom_dir_4',\n",
    "       'dom_dir_5', 'dom_dir_6', 'dom_dir_7', 'dom_dir_8', 'corine_111',\n",
    "       'corine_112', 'corine_121', 'corine_122', 'corine_123', 'corine_124',\n",
    "       'corine_131', 'corine_132', 'corine_133', 'corine_141', 'corine_142',\n",
    "       'corine_211', 'corine_212', 'corine_213', 'corine_221', 'corine_222',\n",
    "       'corine_223', 'corine_231', 'corine_241', 'corine_242', 'corine_243',\n",
    "       'corine_244', 'corine_311', 'corine_312', 'corine_313', 'corine_321',\n",
    "       'corine_322', 'corine_323', 'corine_324', 'corine_331', 'corine_332',\n",
    "       'corine_333', 'corine_334', 'corine_411', 'corine_412', 'corine_421',\n",
    "       'corine_422', 'corine_511', 'corine_512', 'corine_521']]\n",
    "n = fires.max_temp.count()"
   ]
  },
  {
   "cell_type": "code",
   "execution_count": 26,
   "metadata": {
    "collapsed": true
   },
   "outputs": [],
   "source": [
    "similarity = sklearn.metrics.pairwise.cosine_similarity(fires, Y=fires, dense_output=True)"
   ]
  },
  {
   "cell_type": "code",
   "execution_count": 27,
   "metadata": {},
   "outputs": [
    {
     "data": {
      "text/plain": [
       "[0, 0.1, 0.2, 0.3, 0.4, 0.5, 0.6, 0.7, 0.8, 0.9, 2]"
      ]
     },
     "execution_count": 27,
     "metadata": {},
     "output_type": "execute_result"
    }
   ],
   "source": [
    "bins"
   ]
  },
  {
   "cell_type": "code",
   "execution_count": 28,
   "metadata": {},
   "outputs": [
    {
     "data": {
      "text/plain": [
       "array([[ 1.        ,  0.9998916 ,  0.86319651],\n",
       "       [ 0.9998916 ,  1.        ,  0.86360243],\n",
       "       [ 0.86319651,  0.86360243,  1.        ]])"
      ]
     },
     "execution_count": 28,
     "metadata": {},
     "output_type": "execute_result"
    }
   ],
   "source": [
    "similarity"
   ]
  },
  {
   "cell_type": "code",
   "execution_count": 29,
   "metadata": {},
   "outputs": [
    {
     "data": {
      "text/plain": [
       "array([ 1.        ,  0.9998916 ,  0.86319651,  0.9998916 ,  1.        ,\n",
       "        0.86360243,  0.86319651,  0.86360243,  1.        ])"
      ]
     },
     "execution_count": 29,
     "metadata": {},
     "output_type": "execute_result"
    }
   ],
   "source": [
    "similarity_f"
   ]
  },
  {
   "cell_type": "code",
   "execution_count": 30,
   "metadata": {},
   "outputs": [
    {
     "data": {
      "text/plain": [
       "array([11, 10,  9, 10, 11,  9,  9,  9, 10])"
      ]
     },
     "execution_count": 30,
     "metadata": {},
     "output_type": "execute_result"
    }
   ],
   "source": [
    "bin_indices"
   ]
  },
  {
   "cell_type": "code",
   "execution_count": 22,
   "metadata": {},
   "outputs": [
    {
     "data": {
      "text/plain": [
       "[0, 0.1, 0.2, 0.3, 0.4, 0.5, 0.6, 0.7, 0.8, 0.9, 1.00001]"
      ]
     },
     "execution_count": 22,
     "metadata": {},
     "output_type": "execute_result"
    }
   ],
   "source": [
    "bins"
   ]
  },
  {
   "cell_type": "code",
   "execution_count": 12,
   "metadata": {
    "collapsed": true
   },
   "outputs": [],
   "source": [
    "similarity_f = similarity.flatten()\n",
    "bin_indices = np.digitize(similarity_f, bins)\n",
    "c1 = collections.Counter(bin_indices)"
   ]
  },
  {
   "cell_type": "code",
   "execution_count": 13,
   "metadata": {},
   "outputs": [
    {
     "data": {
      "text/plain": [
       "Counter({9: 4, 10: 3, 11: 2})"
      ]
     },
     "execution_count": 13,
     "metadata": {},
     "output_type": "execute_result"
    }
   ],
   "source": [
    "c1"
   ]
  },
  {
   "cell_type": "code",
   "execution_count": 9,
   "metadata": {
    "collapsed": true
   },
   "outputs": [],
   "source": [
    "nofires = df[df.fire == 0][['max_temp', 'min_temp', 'mean_temp', 'res_max',\n",
    "       'dom_vel', 'rain_7days', 'dem', 'slope', 'curvature', 'aspect',\n",
    "       'ndvi_new', 'evi', 'lst_day', 'lst_night', 'max_dew_temp',\n",
    "       'mean_dew_temp', 'min_dew_temp', 'fire', 'dir_max_1', 'dir_max_2',\n",
    "       'dir_max_3', 'dir_max_4', 'dir_max_5', 'dir_max_6', 'dir_max_7',\n",
    "       'dir_max_8', 'dom_dir_1', 'dom_dir_2', 'dom_dir_3', 'dom_dir_4',\n",
    "       'dom_dir_5', 'dom_dir_6', 'dom_dir_7', 'dom_dir_8', 'corine_111',\n",
    "       'corine_112', 'corine_121', 'corine_122', 'corine_123', 'corine_124',\n",
    "       'corine_131', 'corine_132', 'corine_133', 'corine_141', 'corine_142',\n",
    "       'corine_211', 'corine_212', 'corine_213', 'corine_221', 'corine_222',\n",
    "       'corine_223', 'corine_231', 'corine_241', 'corine_242', 'corine_243',\n",
    "       'corine_244', 'corine_311', 'corine_312', 'corine_313', 'corine_321',\n",
    "       'corine_322', 'corine_323', 'corine_324', 'corine_331', 'corine_332',\n",
    "       'corine_333', 'corine_334', 'corine_411', 'corine_412', 'corine_421',\n",
    "       'corine_422', 'corine_511', 'corine_512', 'corine_521']]"
   ]
  },
  {
   "cell_type": "code",
   "execution_count": 10,
   "metadata": {},
   "outputs": [
    {
     "name": "stdout",
     "output_type": "stream",
     "text": [
      "1471  fires found\n"
     ]
    }
   ],
   "source": [
    "print(n,' fires found')"
   ]
  },
  {
   "cell_type": "code",
   "execution_count": null,
   "metadata": {},
   "outputs": [
    {
     "data": {
      "text/plain": [
       "1471"
      ]
     },
     "execution_count": 11,
     "metadata": {},
     "output_type": "execute_result"
    }
   ],
   "source": [
    "n"
   ]
  },
  {
   "cell_type": "code",
   "execution_count": null,
   "metadata": {},
   "outputs": [
    {
     "name": "stdout",
     "output_type": "stream",
     "text": [
      "0\n",
      "100\n",
      "200\n",
      "300\n",
      "400\n",
      "500\n",
      "600\n",
      "700\n",
      "800\n"
     ]
    }
   ],
   "source": [
    "sim=[]\n",
    "for i in range(0,n-100,100):\n",
    "    similarity = sklearn.metrics.pairwise.cosine_similarity(fires.loc[i:i+99], Y=nofires, dense_output=True)\n",
    "    print(i)\n",
    "    sim.append(similarity)"
   ]
  },
  {
   "cell_type": "code",
   "execution_count": 56,
   "metadata": {},
   "outputs": [
    {
     "data": {
      "text/plain": [
       "(11, 11561738)"
      ]
     },
     "execution_count": 56,
     "metadata": {},
     "output_type": "execute_result"
    }
   ],
   "source": [
    "sim[0].shape"
   ]
  },
  {
   "cell_type": "code",
   "execution_count": 16,
   "metadata": {},
   "outputs": [
    {
     "ename": "AttributeError",
     "evalue": "'list' object has no attribute 'flatten'",
     "output_type": "error",
     "traceback": [
      "\u001b[0;31m---------------------------------------------------------------------------\u001b[0m",
      "\u001b[0;31mAttributeError\u001b[0m                            Traceback (most recent call last)",
      "\u001b[0;32m<ipython-input-16-5df31453c884>\u001b[0m in \u001b[0;36m<module>\u001b[0;34m()\u001b[0m\n\u001b[0;32m----> 1\u001b[0;31m \u001b[0msim_f\u001b[0m \u001b[0;34m=\u001b[0m \u001b[0msim\u001b[0m\u001b[0;34m[\u001b[0m\u001b[0;34m:\u001b[0m\u001b[0;34m]\u001b[0m\u001b[0;34m.\u001b[0m\u001b[0mflatten\u001b[0m\u001b[0;34m(\u001b[0m\u001b[0;34m)\u001b[0m\u001b[0;34m\u001b[0m\u001b[0m\n\u001b[0m\u001b[1;32m      2\u001b[0m \u001b[0mbins\u001b[0m \u001b[0;34m=\u001b[0m \u001b[0;34m[\u001b[0m\u001b[0;36m0\u001b[0m\u001b[0;34m,\u001b[0m \u001b[0;36m0.1\u001b[0m\u001b[0;34m,\u001b[0m\u001b[0;36m0.2\u001b[0m\u001b[0;34m,\u001b[0m \u001b[0;36m0.3\u001b[0m\u001b[0;34m,\u001b[0m\u001b[0;36m0.4\u001b[0m\u001b[0;34m,\u001b[0m \u001b[0;36m0.5\u001b[0m\u001b[0;34m,\u001b[0m\u001b[0;36m0.6\u001b[0m\u001b[0;34m,\u001b[0m\u001b[0;36m0.7\u001b[0m\u001b[0;34m,\u001b[0m\u001b[0;36m0.8\u001b[0m\u001b[0;34m,\u001b[0m\u001b[0;36m0.9\u001b[0m\u001b[0;34m,\u001b[0m\u001b[0;36m1\u001b[0m\u001b[0;34m]\u001b[0m\u001b[0;34m\u001b[0m\u001b[0m\n\u001b[1;32m      3\u001b[0m \u001b[0mbin_indices\u001b[0m \u001b[0;34m=\u001b[0m \u001b[0mnp\u001b[0m\u001b[0;34m.\u001b[0m\u001b[0mdigitize\u001b[0m\u001b[0;34m(\u001b[0m\u001b[0msimilarity_f\u001b[0m\u001b[0;34m,\u001b[0m \u001b[0mbins\u001b[0m\u001b[0;34m)\u001b[0m\u001b[0;34m\u001b[0m\u001b[0m\n\u001b[1;32m      4\u001b[0m \u001b[0mc1\u001b[0m \u001b[0;34m=\u001b[0m \u001b[0mcollections\u001b[0m\u001b[0;34m.\u001b[0m\u001b[0mCounter\u001b[0m\u001b[0;34m(\u001b[0m\u001b[0mbin_indices\u001b[0m\u001b[0;34m)\u001b[0m\u001b[0;34m\u001b[0m\u001b[0m\n",
      "\u001b[0;31mAttributeError\u001b[0m: 'list' object has no attribute 'flatten'"
     ]
    }
   ],
   "source": [
    "sim_f = sim[:].flatten()\n",
    "bins = [0, 0.1,0.2, 0.3,0.4, 0.5,0.6,0.7,0.8,0.9,1]\n",
    "bin_indices = np.digitize(similarity_f, bins)\n",
    "c1 = collections.Counter(bin_indices)"
   ]
  },
  {
   "cell_type": "code",
   "execution_count": 36,
   "metadata": {},
   "outputs": [
    {
     "data": {
      "text/plain": [
       "(10, 74)"
      ]
     },
     "execution_count": 36,
     "metadata": {},
     "output_type": "execute_result"
    }
   ],
   "source": [
    "fires[i:i+10,:].shape"
   ]
  },
  {
   "cell_type": "code",
   "execution_count": 38,
   "metadata": {
    "collapsed": true
   },
   "outputs": [
    {
     "data": {
      "text/html": [
       "<div>\n",
       "<style>\n",
       "    .dataframe thead tr:only-child th {\n",
       "        text-align: right;\n",
       "    }\n",
       "\n",
       "    .dataframe thead th {\n",
       "        text-align: left;\n",
       "    }\n",
       "\n",
       "    .dataframe tbody tr th {\n",
       "        vertical-align: top;\n",
       "    }\n",
       "</style>\n",
       "<table border=\"1\" class=\"dataframe\">\n",
       "  <thead>\n",
       "    <tr style=\"text-align: right;\">\n",
       "      <th></th>\n",
       "      <th>Unnamed: 0</th>\n",
       "      <th>Unnamed: 0.1</th>\n",
       "      <th>id</th>\n",
       "      <th>firedate</th>\n",
       "      <th>max_temp</th>\n",
       "      <th>min_temp</th>\n",
       "      <th>mean_temp</th>\n",
       "      <th>res_max</th>\n",
       "      <th>dom_vel</th>\n",
       "      <th>rain_7days</th>\n",
       "      <th>...</th>\n",
       "      <th>month_8</th>\n",
       "      <th>month_4</th>\n",
       "      <th>month_5</th>\n",
       "      <th>month_6</th>\n",
       "      <th>month_7</th>\n",
       "      <th>month_9</th>\n",
       "      <th>frequency</th>\n",
       "      <th>f81</th>\n",
       "      <th>x</th>\n",
       "      <th>y</th>\n",
       "    </tr>\n",
       "  </thead>\n",
       "  <tbody>\n",
       "    <tr>\n",
       "      <th>0</th>\n",
       "      <td>0</td>\n",
       "      <td>0</td>\n",
       "      <td>333237.0</td>\n",
       "      <td>20110810</td>\n",
       "      <td>0.717</td>\n",
       "      <td>0.679</td>\n",
       "      <td>0.697</td>\n",
       "      <td>0.408</td>\n",
       "      <td>0.291</td>\n",
       "      <td>0.003</td>\n",
       "      <td>...</td>\n",
       "      <td>1</td>\n",
       "      <td>0</td>\n",
       "      <td>0</td>\n",
       "      <td>0</td>\n",
       "      <td>0</td>\n",
       "      <td>0</td>\n",
       "      <td>0.0</td>\n",
       "      <td>0.001</td>\n",
       "      <td>0.782</td>\n",
       "      <td>1.0</td>\n",
       "    </tr>\n",
       "    <tr>\n",
       "      <th>1</th>\n",
       "      <td>1</td>\n",
       "      <td>373395</td>\n",
       "      <td>333237.0</td>\n",
       "      <td>20110818</td>\n",
       "      <td>0.681</td>\n",
       "      <td>0.761</td>\n",
       "      <td>0.721</td>\n",
       "      <td>0.212</td>\n",
       "      <td>0.173</td>\n",
       "      <td>0.067</td>\n",
       "      <td>...</td>\n",
       "      <td>1</td>\n",
       "      <td>0</td>\n",
       "      <td>0</td>\n",
       "      <td>0</td>\n",
       "      <td>0</td>\n",
       "      <td>0</td>\n",
       "      <td>0.0</td>\n",
       "      <td>0.001</td>\n",
       "      <td>0.782</td>\n",
       "      <td>1.0</td>\n",
       "    </tr>\n",
       "    <tr>\n",
       "      <th>2</th>\n",
       "      <td>2</td>\n",
       "      <td>746807</td>\n",
       "      <td>333237.0</td>\n",
       "      <td>20110831</td>\n",
       "      <td>0.743</td>\n",
       "      <td>0.662</td>\n",
       "      <td>0.731</td>\n",
       "      <td>0.070</td>\n",
       "      <td>0.083</td>\n",
       "      <td>0.000</td>\n",
       "      <td>...</td>\n",
       "      <td>1</td>\n",
       "      <td>0</td>\n",
       "      <td>0</td>\n",
       "      <td>0</td>\n",
       "      <td>0</td>\n",
       "      <td>0</td>\n",
       "      <td>0.0</td>\n",
       "      <td>0.001</td>\n",
       "      <td>0.782</td>\n",
       "      <td>1.0</td>\n",
       "    </tr>\n",
       "    <tr>\n",
       "      <th>3</th>\n",
       "      <td>3</td>\n",
       "      <td>1120253</td>\n",
       "      <td>333237.0</td>\n",
       "      <td>20110820</td>\n",
       "      <td>0.740</td>\n",
       "      <td>0.693</td>\n",
       "      <td>0.740</td>\n",
       "      <td>0.131</td>\n",
       "      <td>0.184</td>\n",
       "      <td>0.002</td>\n",
       "      <td>...</td>\n",
       "      <td>1</td>\n",
       "      <td>0</td>\n",
       "      <td>0</td>\n",
       "      <td>0</td>\n",
       "      <td>0</td>\n",
       "      <td>0</td>\n",
       "      <td>0.0</td>\n",
       "      <td>0.001</td>\n",
       "      <td>0.782</td>\n",
       "      <td>1.0</td>\n",
       "    </tr>\n",
       "    <tr>\n",
       "      <th>4</th>\n",
       "      <td>4</td>\n",
       "      <td>1493665</td>\n",
       "      <td>333237.0</td>\n",
       "      <td>20110826</td>\n",
       "      <td>0.688</td>\n",
       "      <td>0.703</td>\n",
       "      <td>0.678</td>\n",
       "      <td>0.348</td>\n",
       "      <td>0.288</td>\n",
       "      <td>0.002</td>\n",
       "      <td>...</td>\n",
       "      <td>1</td>\n",
       "      <td>0</td>\n",
       "      <td>0</td>\n",
       "      <td>0</td>\n",
       "      <td>0</td>\n",
       "      <td>0</td>\n",
       "      <td>0.0</td>\n",
       "      <td>0.001</td>\n",
       "      <td>0.782</td>\n",
       "      <td>1.0</td>\n",
       "    </tr>\n",
       "    <tr>\n",
       "      <th>5</th>\n",
       "      <td>5</td>\n",
       "      <td>1867068</td>\n",
       "      <td>333237.0</td>\n",
       "      <td>20110829</td>\n",
       "      <td>0.666</td>\n",
       "      <td>0.660</td>\n",
       "      <td>0.654</td>\n",
       "      <td>0.367</td>\n",
       "      <td>0.231</td>\n",
       "      <td>0.000</td>\n",
       "      <td>...</td>\n",
       "      <td>1</td>\n",
       "      <td>0</td>\n",
       "      <td>0</td>\n",
       "      <td>0</td>\n",
       "      <td>0</td>\n",
       "      <td>0</td>\n",
       "      <td>0.0</td>\n",
       "      <td>0.001</td>\n",
       "      <td>0.782</td>\n",
       "      <td>1.0</td>\n",
       "    </tr>\n",
       "    <tr>\n",
       "      <th>6</th>\n",
       "      <td>6</td>\n",
       "      <td>2240471</td>\n",
       "      <td>333237.0</td>\n",
       "      <td>20110822</td>\n",
       "      <td>0.719</td>\n",
       "      <td>0.692</td>\n",
       "      <td>0.717</td>\n",
       "      <td>0.121</td>\n",
       "      <td>0.171</td>\n",
       "      <td>0.003</td>\n",
       "      <td>...</td>\n",
       "      <td>1</td>\n",
       "      <td>0</td>\n",
       "      <td>0</td>\n",
       "      <td>0</td>\n",
       "      <td>0</td>\n",
       "      <td>0</td>\n",
       "      <td>0.0</td>\n",
       "      <td>0.001</td>\n",
       "      <td>0.782</td>\n",
       "      <td>1.0</td>\n",
       "    </tr>\n",
       "    <tr>\n",
       "      <th>7</th>\n",
       "      <td>7</td>\n",
       "      <td>2613874</td>\n",
       "      <td>333237.0</td>\n",
       "      <td>20110808</td>\n",
       "      <td>0.728</td>\n",
       "      <td>0.692</td>\n",
       "      <td>0.714</td>\n",
       "      <td>0.109</td>\n",
       "      <td>0.164</td>\n",
       "      <td>0.005</td>\n",
       "      <td>...</td>\n",
       "      <td>1</td>\n",
       "      <td>0</td>\n",
       "      <td>0</td>\n",
       "      <td>0</td>\n",
       "      <td>0</td>\n",
       "      <td>0</td>\n",
       "      <td>0.0</td>\n",
       "      <td>0.001</td>\n",
       "      <td>0.782</td>\n",
       "      <td>1.0</td>\n",
       "    </tr>\n",
       "    <tr>\n",
       "      <th>8</th>\n",
       "      <td>8</td>\n",
       "      <td>2987269</td>\n",
       "      <td>333237.0</td>\n",
       "      <td>20110806</td>\n",
       "      <td>0.630</td>\n",
       "      <td>0.706</td>\n",
       "      <td>0.668</td>\n",
       "      <td>0.268</td>\n",
       "      <td>0.196</td>\n",
       "      <td>0.007</td>\n",
       "      <td>...</td>\n",
       "      <td>1</td>\n",
       "      <td>0</td>\n",
       "      <td>0</td>\n",
       "      <td>0</td>\n",
       "      <td>0</td>\n",
       "      <td>0</td>\n",
       "      <td>0.0</td>\n",
       "      <td>0.001</td>\n",
       "      <td>0.782</td>\n",
       "      <td>1.0</td>\n",
       "    </tr>\n",
       "    <tr>\n",
       "      <th>9</th>\n",
       "      <td>9</td>\n",
       "      <td>3360664</td>\n",
       "      <td>333237.0</td>\n",
       "      <td>20110815</td>\n",
       "      <td>0.718</td>\n",
       "      <td>0.714</td>\n",
       "      <td>0.735</td>\n",
       "      <td>0.058</td>\n",
       "      <td>0.077</td>\n",
       "      <td>0.069</td>\n",
       "      <td>...</td>\n",
       "      <td>1</td>\n",
       "      <td>0</td>\n",
       "      <td>0</td>\n",
       "      <td>0</td>\n",
       "      <td>0</td>\n",
       "      <td>0</td>\n",
       "      <td>0.0</td>\n",
       "      <td>0.001</td>\n",
       "      <td>0.782</td>\n",
       "      <td>1.0</td>\n",
       "    </tr>\n",
       "    <tr>\n",
       "      <th>10</th>\n",
       "      <td>10</td>\n",
       "      <td>3734076</td>\n",
       "      <td>333237.0</td>\n",
       "      <td>20110823</td>\n",
       "      <td>0.746</td>\n",
       "      <td>0.700</td>\n",
       "      <td>0.735</td>\n",
       "      <td>0.122</td>\n",
       "      <td>0.194</td>\n",
       "      <td>0.003</td>\n",
       "      <td>...</td>\n",
       "      <td>1</td>\n",
       "      <td>0</td>\n",
       "      <td>0</td>\n",
       "      <td>0</td>\n",
       "      <td>0</td>\n",
       "      <td>0</td>\n",
       "      <td>0.0</td>\n",
       "      <td>0.001</td>\n",
       "      <td>0.782</td>\n",
       "      <td>1.0</td>\n",
       "    </tr>\n",
       "  </tbody>\n",
       "</table>\n",
       "<p>11 rows × 95 columns</p>\n",
       "</div>"
      ],
      "text/plain": [
       "    Unnamed: 0  Unnamed: 0.1        id  firedate  max_temp  min_temp  \\\n",
       "0            0             0  333237.0  20110810     0.717     0.679   \n",
       "1            1        373395  333237.0  20110818     0.681     0.761   \n",
       "2            2        746807  333237.0  20110831     0.743     0.662   \n",
       "3            3       1120253  333237.0  20110820     0.740     0.693   \n",
       "4            4       1493665  333237.0  20110826     0.688     0.703   \n",
       "5            5       1867068  333237.0  20110829     0.666     0.660   \n",
       "6            6       2240471  333237.0  20110822     0.719     0.692   \n",
       "7            7       2613874  333237.0  20110808     0.728     0.692   \n",
       "8            8       2987269  333237.0  20110806     0.630     0.706   \n",
       "9            9       3360664  333237.0  20110815     0.718     0.714   \n",
       "10          10       3734076  333237.0  20110823     0.746     0.700   \n",
       "\n",
       "    mean_temp  res_max  dom_vel  rain_7days ...   month_8  month_4  month_5  \\\n",
       "0       0.697    0.408    0.291       0.003 ...         1        0        0   \n",
       "1       0.721    0.212    0.173       0.067 ...         1        0        0   \n",
       "2       0.731    0.070    0.083       0.000 ...         1        0        0   \n",
       "3       0.740    0.131    0.184       0.002 ...         1        0        0   \n",
       "4       0.678    0.348    0.288       0.002 ...         1        0        0   \n",
       "5       0.654    0.367    0.231       0.000 ...         1        0        0   \n",
       "6       0.717    0.121    0.171       0.003 ...         1        0        0   \n",
       "7       0.714    0.109    0.164       0.005 ...         1        0        0   \n",
       "8       0.668    0.268    0.196       0.007 ...         1        0        0   \n",
       "9       0.735    0.058    0.077       0.069 ...         1        0        0   \n",
       "10      0.735    0.122    0.194       0.003 ...         1        0        0   \n",
       "\n",
       "    month_6  month_7  month_9  frequency    f81      x    y  \n",
       "0         0        0        0        0.0  0.001  0.782  1.0  \n",
       "1         0        0        0        0.0  0.001  0.782  1.0  \n",
       "2         0        0        0        0.0  0.001  0.782  1.0  \n",
       "3         0        0        0        0.0  0.001  0.782  1.0  \n",
       "4         0        0        0        0.0  0.001  0.782  1.0  \n",
       "5         0        0        0        0.0  0.001  0.782  1.0  \n",
       "6         0        0        0        0.0  0.001  0.782  1.0  \n",
       "7         0        0        0        0.0  0.001  0.782  1.0  \n",
       "8         0        0        0        0.0  0.001  0.782  1.0  \n",
       "9         0        0        0        0.0  0.001  0.782  1.0  \n",
       "10        0        0        0        0.0  0.001  0.782  1.0  \n",
       "\n",
       "[11 rows x 95 columns]"
      ]
     },
     "execution_count": 38,
     "metadata": {},
     "output_type": "execute_result"
    }
   ],
   "source": [
    "df.loc[0:10]"
   ]
  },
  {
   "cell_type": "code",
   "execution_count": 2,
   "metadata": {
    "collapsed": true
   },
   "outputs": [],
   "source": [
    "c1 = collections.Counter()"
   ]
  },
  {
   "cell_type": "code",
   "execution_count": 4,
   "metadata": {},
   "outputs": [
    {
     "data": {
      "text/plain": [
       "Counter()"
      ]
     },
     "execution_count": 4,
     "metadata": {},
     "output_type": "execute_result"
    }
   ],
   "source": [
    "c1"
   ]
  },
  {
   "cell_type": "code",
   "execution_count": null,
   "metadata": {
    "collapsed": true
   },
   "outputs": [],
   "source": []
  }
 ],
 "metadata": {
  "kernelspec": {
   "display_name": "Python 3",
   "language": "python",
   "name": "python3"
  },
  "language_info": {
   "codemirror_mode": {
    "name": "ipython",
    "version": 3
   },
   "file_extension": ".py",
   "mimetype": "text/x-python",
   "name": "python",
   "nbconvert_exporter": "python",
   "pygments_lexer": "ipython3",
   "version": "3.6.3"
  }
 },
 "nbformat": 4,
 "nbformat_minor": 2
}
